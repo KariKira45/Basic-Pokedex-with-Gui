{
 "cells": [
  {
   "cell_type": "code",
   "execution_count": null,
   "metadata": {},
   "outputs": [
    {
     "name": "stdout",
     "output_type": "stream",
     "text": [
      "Hello Welcome to 'an attempt was made' pokedex with a Gui\n",
      "Please specify if you want to find a pokemon by 'id' or 'name' :name\n",
      "Enter the Pokemon's Name :Bulbasaur\n"
     ]
    }
   ],
   "source": [
    "from tkinter import *\n",
    "from PIL import ImageTk,Image\n",
    "import pandas as pd\n",
    "import numpy as np\n",
    "\n",
    "pokemon_name = ''\n",
    "pokemon_id = ''\n",
    "pokedex_str = \"\"\n",
    "df = pd.read_csv('pokemon.csv', encoding=\"ISO-8859-1\")\n",
    "\n",
    "print(\"Hello Welcome to 'an attempt was made' pokedex with a Gui\")\n",
    "init_prompt = input(\"Please specify if you want to find a pokemon by 'id' or 'name' :\")\n",
    "if init_prompt == 'id':\n",
    "    pokemon_id = input(\"Enter the Pokemon's ID :\")\n",
    "    df = df.loc[int(pokemon_id)-1]\n",
    "    pokemon_details = df.to_dict()\n",
    "\n",
    "    \n",
    "elif init_prompt == 'name':\n",
    "    pokemon_name = input(\"Enter the Pokemon's Name :\")\n",
    "    name_df = df[df.name == pokemon_name]\n",
    "    df = df.loc[name_df['pokedex_number'].iloc[0]]\n",
    "    pokemon_details = df.to_dict()\n",
    "\n",
    "    \n",
    "else:\n",
    "    print(\"You have not specified if you want to find by id or by name\")\n",
    "    init_prompt = input(\"Please specify if you want to find a pokemon by 'id' or 'name' :\")\n",
    "\n",
    "root = Toplevel()\n",
    "root.title('An attempt was made to make a pokedex')\n",
    "if init_prompt == 'id':\n",
    "    img = ImageTk.PhotoImage(Image.open(\"images/\"+'{:04d}'.format(int(pokemon_id))+\".png\"))\n",
    "else:\n",
    "    img = ImageTk.PhotoImage(Image.open(\"images/\"+'{:04d}'.format(name_df['pokedex_number'].iloc[0])+\".png\"))\n",
    "label = Label(root, image=img)\n",
    "label.pack()\n",
    "text = Text(root)\n",
    "for key, value in pokemon_details.items():\n",
    "    text.insert(INSERT,str(key)+\"    :\"+str(value)+\"\\n\")\n",
    "text.insert(END,\"End of Transmission\")    \n",
    "text.pack()\n",
    "root.mainloop()"
   ]
  },
  {
   "cell_type": "code",
   "execution_count": null,
   "metadata": {},
   "outputs": [],
   "source": []
  },
  {
   "cell_type": "code",
   "execution_count": null,
   "metadata": {},
   "outputs": [],
   "source": []
  }
 ],
 "metadata": {
  "kernelspec": {
   "display_name": "Python 3",
   "language": "python",
   "name": "python3"
  },
  "language_info": {
   "codemirror_mode": {
    "name": "ipython",
    "version": 3
   },
   "file_extension": ".py",
   "mimetype": "text/x-python",
   "name": "python",
   "nbconvert_exporter": "python",
   "pygments_lexer": "ipython3",
   "version": "3.8.3"
  }
 },
 "nbformat": 4,
 "nbformat_minor": 4
}
